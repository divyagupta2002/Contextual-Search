{
 "cells": [
  {
   "cell_type": "code",
   "execution_count": 1,
   "metadata": {},
   "outputs": [],
   "source": [
    "import pandas as pd\n",
    "\n",
    "df = pd.read_csv('bigBasketProducts.csv')"
   ]
  },
  {
   "cell_type": "code",
   "execution_count": 2,
   "metadata": {},
   "outputs": [
    {
     "name": "stdout",
     "output_type": "stream",
     "text": [
      "<class 'pandas.core.frame.DataFrame'>\n",
      "RangeIndex: 27555 entries, 0 to 27554\n",
      "Data columns (total 10 columns):\n",
      " #   Column        Non-Null Count  Dtype  \n",
      "---  ------        --------------  -----  \n",
      " 0   index         27555 non-null  int64  \n",
      " 1   product       27554 non-null  object \n",
      " 2   category      27555 non-null  object \n",
      " 3   sub_category  27555 non-null  object \n",
      " 4   brand         27554 non-null  object \n",
      " 5   sale_price    27555 non-null  float64\n",
      " 6   market_price  27555 non-null  float64\n",
      " 7   type          27555 non-null  object \n",
      " 8   rating        18929 non-null  float64\n",
      " 9   description   27440 non-null  object \n",
      "dtypes: float64(3), int64(1), object(6)\n",
      "memory usage: 2.1+ MB\n"
     ]
    }
   ],
   "source": [
    "df.info()"
   ]
  },
  {
   "cell_type": "code",
   "execution_count": 3,
   "metadata": {},
   "outputs": [],
   "source": [
    "df.fillna(\"Not Available\", inplace=True)"
   ]
  },
  {
   "cell_type": "code",
   "execution_count": 4,
   "metadata": {},
   "outputs": [
    {
     "data": {
      "text/html": [
       "<div>\n",
       "<style scoped>\n",
       "    .dataframe tbody tr th:only-of-type {\n",
       "        vertical-align: middle;\n",
       "    }\n",
       "\n",
       "    .dataframe tbody tr th {\n",
       "        vertical-align: top;\n",
       "    }\n",
       "\n",
       "    .dataframe thead th {\n",
       "        text-align: right;\n",
       "    }\n",
       "</style>\n",
       "<table border=\"1\" class=\"dataframe\">\n",
       "  <thead>\n",
       "    <tr style=\"text-align: right;\">\n",
       "      <th></th>\n",
       "      <th>index</th>\n",
       "      <th>product</th>\n",
       "      <th>category</th>\n",
       "      <th>sub_category</th>\n",
       "      <th>brand</th>\n",
       "      <th>sale_price</th>\n",
       "      <th>market_price</th>\n",
       "      <th>type</th>\n",
       "      <th>rating</th>\n",
       "      <th>description</th>\n",
       "    </tr>\n",
       "  </thead>\n",
       "  <tbody>\n",
       "    <tr>\n",
       "      <th>0</th>\n",
       "      <td>1</td>\n",
       "      <td>Garlic Oil - Vegetarian Capsule 500 mg</td>\n",
       "      <td>Beauty &amp; Hygiene</td>\n",
       "      <td>Hair Care</td>\n",
       "      <td>Sri Sri Ayurveda</td>\n",
       "      <td>220.0</td>\n",
       "      <td>220.0</td>\n",
       "      <td>Hair Oil &amp; Serum</td>\n",
       "      <td>4.1</td>\n",
       "      <td>This Product contains Garlic Oil that is known...</td>\n",
       "    </tr>\n",
       "    <tr>\n",
       "      <th>1</th>\n",
       "      <td>2</td>\n",
       "      <td>Water Bottle - Orange</td>\n",
       "      <td>Kitchen, Garden &amp; Pets</td>\n",
       "      <td>Storage &amp; Accessories</td>\n",
       "      <td>Mastercook</td>\n",
       "      <td>180.0</td>\n",
       "      <td>180.0</td>\n",
       "      <td>Water &amp; Fridge Bottles</td>\n",
       "      <td>2.3</td>\n",
       "      <td>Each product is microwave safe (without lid), ...</td>\n",
       "    </tr>\n",
       "    <tr>\n",
       "      <th>2</th>\n",
       "      <td>3</td>\n",
       "      <td>Brass Angle Deep - Plain, No.2</td>\n",
       "      <td>Cleaning &amp; Household</td>\n",
       "      <td>Pooja Needs</td>\n",
       "      <td>Trm</td>\n",
       "      <td>119.0</td>\n",
       "      <td>250.0</td>\n",
       "      <td>Lamp &amp; Lamp Oil</td>\n",
       "      <td>3.4</td>\n",
       "      <td>A perfect gift for all occasions, be it your m...</td>\n",
       "    </tr>\n",
       "    <tr>\n",
       "      <th>3</th>\n",
       "      <td>4</td>\n",
       "      <td>Cereal Flip Lid Container/Storage Jar - Assort...</td>\n",
       "      <td>Cleaning &amp; Household</td>\n",
       "      <td>Bins &amp; Bathroom Ware</td>\n",
       "      <td>Nakoda</td>\n",
       "      <td>149.0</td>\n",
       "      <td>176.0</td>\n",
       "      <td>Laundry, Storage Baskets</td>\n",
       "      <td>3.7</td>\n",
       "      <td>Multipurpose container with an attractive desi...</td>\n",
       "    </tr>\n",
       "    <tr>\n",
       "      <th>4</th>\n",
       "      <td>5</td>\n",
       "      <td>Creme Soft Soap - For Hands &amp; Body</td>\n",
       "      <td>Beauty &amp; Hygiene</td>\n",
       "      <td>Bath &amp; Hand Wash</td>\n",
       "      <td>Nivea</td>\n",
       "      <td>162.0</td>\n",
       "      <td>162.0</td>\n",
       "      <td>Bathing Bars &amp; Soaps</td>\n",
       "      <td>4.4</td>\n",
       "      <td>Nivea Creme Soft Soap gives your skin the best...</td>\n",
       "    </tr>\n",
       "  </tbody>\n",
       "</table>\n",
       "</div>"
      ],
      "text/plain": [
       "   index                                            product  \\\n",
       "0      1             Garlic Oil - Vegetarian Capsule 500 mg   \n",
       "1      2                              Water Bottle - Orange   \n",
       "2      3                     Brass Angle Deep - Plain, No.2   \n",
       "3      4  Cereal Flip Lid Container/Storage Jar - Assort...   \n",
       "4      5                 Creme Soft Soap - For Hands & Body   \n",
       "\n",
       "                 category           sub_category              brand  \\\n",
       "0        Beauty & Hygiene              Hair Care  Sri Sri Ayurveda    \n",
       "1  Kitchen, Garden & Pets  Storage & Accessories         Mastercook   \n",
       "2    Cleaning & Household            Pooja Needs                Trm   \n",
       "3    Cleaning & Household   Bins & Bathroom Ware             Nakoda   \n",
       "4        Beauty & Hygiene       Bath & Hand Wash              Nivea   \n",
       "\n",
       "   sale_price  market_price                      type rating  \\\n",
       "0       220.0         220.0          Hair Oil & Serum    4.1   \n",
       "1       180.0         180.0    Water & Fridge Bottles    2.3   \n",
       "2       119.0         250.0           Lamp & Lamp Oil    3.4   \n",
       "3       149.0         176.0  Laundry, Storage Baskets    3.7   \n",
       "4       162.0         162.0      Bathing Bars & Soaps    4.4   \n",
       "\n",
       "                                         description  \n",
       "0  This Product contains Garlic Oil that is known...  \n",
       "1  Each product is microwave safe (without lid), ...  \n",
       "2  A perfect gift for all occasions, be it your m...  \n",
       "3  Multipurpose container with an attractive desi...  \n",
       "4  Nivea Creme Soft Soap gives your skin the best...  "
      ]
     },
     "execution_count": 4,
     "metadata": {},
     "output_type": "execute_result"
    }
   ],
   "source": [
    "df.head()"
   ]
  },
  {
   "cell_type": "code",
   "execution_count": 5,
   "metadata": {},
   "outputs": [
    {
     "data": {
      "text/plain": [
       "Index(['index', 'product', 'category', 'sub_category', 'brand', 'sale_price',\n",
       "       'market_price', 'type', 'rating', 'description'],\n",
       "      dtype='object')"
      ]
     },
     "execution_count": 5,
     "metadata": {},
     "output_type": "execute_result"
    }
   ],
   "source": [
    "df.columns"
   ]
  },
  {
   "cell_type": "code",
   "execution_count": 1,
   "metadata": {},
   "outputs": [],
   "source": [
    "from meilisearch import Client\n",
    "\n",
    "client = Client('http://localhost:7700')"
   ]
  },
  {
   "cell_type": "code",
   "execution_count": 3,
   "metadata": {},
   "outputs": [],
   "source": [
    "a = client.get_indexes({'limit': 3})"
   ]
  },
  {
   "cell_type": "code",
   "execution_count": 6,
   "metadata": {},
   "outputs": [
    {
     "data": {
      "text/plain": [
       "TaskInfo(task_uid=57346, index_uid='movies', status='enqueued', type='indexDeletion', enqueued_at=datetime.datetime(2024, 4, 14, 8, 19, 12, 753447))"
      ]
     },
     "execution_count": 6,
     "metadata": {},
     "output_type": "execute_result"
    }
   ],
   "source": [
    "client.index('movies').delete()"
   ]
  },
  {
   "cell_type": "code",
   "execution_count": 41,
   "metadata": {},
   "outputs": [
    {
     "data": {
      "text/plain": [
       "TaskInfo(task_uid=27562, index_uid='products', status='enqueued', type='indexCreation', enqueued_at=datetime.datetime(2024, 4, 12, 12, 41, 8, 278427))"
      ]
     },
     "execution_count": 41,
     "metadata": {},
     "output_type": "execute_result"
    }
   ],
   "source": [
    "client.create_index('products',  {'primaryKey': 'index'})"
   ]
  },
  {
   "cell_type": "code",
   "execution_count": 8,
   "metadata": {},
   "outputs": [],
   "source": [
    "data = df.to_dict(orient='records' )"
   ]
  },
  {
   "cell_type": "code",
   "execution_count": 9,
   "metadata": {},
   "outputs": [],
   "source": [
    "data = [{str(k): v for k, v in item.items()} for item in data]"
   ]
  },
  {
   "cell_type": "code",
   "execution_count": 42,
   "metadata": {},
   "outputs": [
    {
     "data": {
      "text/plain": [
       "{'index': 1,\n",
       " 'product': 'Garlic Oil - Vegetarian Capsule 500 mg',\n",
       " 'category': 'Beauty & Hygiene',\n",
       " 'sub_category': 'Hair Care',\n",
       " 'brand': 'Sri Sri Ayurveda ',\n",
       " 'sale_price': 220.0,\n",
       " 'market_price': 220.0,\n",
       " 'type': 'Hair Oil & Serum',\n",
       " 'rating': 4.1,\n",
       " 'description': 'This Product contains Garlic Oil that is known to help proper digestion, maintain proper cholesterol levels, support cardiovascular and also build immunity.  For Beauty tips, tricks & more visit https://bigbasket.blog/'}"
      ]
     },
     "execution_count": 42,
     "metadata": {},
     "output_type": "execute_result"
    }
   ],
   "source": [
    "data[0]"
   ]
  },
  {
   "cell_type": "code",
   "execution_count": 44,
   "metadata": {},
   "outputs": [],
   "source": [
    "for d in data:\n",
    "    client.index('products').add_documents([d], primary_key='index')"
   ]
  },
  {
   "cell_type": "code",
   "execution_count": 2,
   "metadata": {},
   "outputs": [],
   "source": [
    "index = client.get_index('products')"
   ]
  },
  {
   "cell_type": "code",
   "execution_count": 4,
   "metadata": {},
   "outputs": [],
   "source": [
    "x = index.search('Garlic Oil - Vegetarian Capsule 500 mg') "
   ]
  },
  {
   "cell_type": "code",
   "execution_count": 15,
   "metadata": {},
   "outputs": [],
   "source": [
    "x = index.search( 'smart tech for home', {\n",
    "  'limit': 3,\n",
    "  \"hybrid\": {\n",
    "      \"semanticRatio\": 0.5,\n",
    "      \"embedder\": \"default\"\n",
    "    }\n",
    "})"
   ]
  },
  {
   "cell_type": "code",
   "execution_count": 16,
   "metadata": {},
   "outputs": [
    {
     "data": {
      "text/plain": [
       "{'hits': [{'product': 'Smart LED Bulb - 12 Watt, Wi-Fi Enabled, Multicolour (SSK-SMW 12W)',\n",
       "   'category': 'Kitchen, Garden & Pets',\n",
       "   'sub_category': 'Appliances & Electricals',\n",
       "   'brand': 'Syska',\n",
       "   'type': 'CFL & Led Bulbs',\n",
       "   'sale_price': 749.0,\n",
       "   'market_price': 2499.0,\n",
       "   'rating': 3.2,\n",
       "   'description': 'Too lazy to turn on or turn off your light? Syska Smart Bulb has got your back. It comes equipped with features such as Voice Control and Wi-Fi Compatibility so that you can control the light with just your voice. Wifi-enabled, With the alarm clock feature in this smart bulb, you can easily set daily schedules.\\xa0Syska smart bulb works perfectly well with any Wi-Fi router without a need for a separate hub or paid subscription service. Your existing Wi-Fi is enough (2.4 GHz only). It works well with a wireless connection. It has 16 million colour options as it offers you 16 million shades and different tones to make any occasion extra special and allow to change colours as per your mood.\\xa0Supported OS:\\xa0Android 4.3 and above, iOS 6 and above.',\n",
       "   '_semanticScore': 0.42159176},\n",
       "  {'product': 'Smart LED Bulb - 7 Watt, Wi-Fi Enabled, Multicolour (SSK-SMW 7W)',\n",
       "   'category': 'Kitchen, Garden & Pets',\n",
       "   'sub_category': 'Appliances & Electricals',\n",
       "   'brand': 'Syska',\n",
       "   'type': 'CFL & Led Bulbs',\n",
       "   'sale_price': 499.0,\n",
       "   'market_price': 1799.0,\n",
       "   'rating': 3.1,\n",
       "   'description': 'Too lazy to turn on or turn off your light? Syska Smart Bulb has got your back. It comes equipped with features such as Voice Control and Wi-Fi Compatibility so that you can control the light with just your voice. Wifi-enabled, With the alarm clock feature in this smart bulb, you can easily set daily schedules.\\xa0Syska smart bulb works perfectly well with any Wi-Fi router without a need for a separate hub or paid subscription service. Your existing Wi-Fi is enough (2.4 GHz only). It works well with a wireless connection. It has 16 million colour options as it offers you 16 million shades and different tones to make any occasion extra special and allow to change colours as per your mood.Supported OS:\\xa0Android 4.3 and above, iOS 6 and above.',\n",
       "   '_semanticScore': 0.412138},\n",
       "  {'product': 'Clippy 2 Pin Extension Box With 5 Meter Wire 1086',\n",
       "   'category': 'Kitchen, Garden & Pets',\n",
       "   'sub_category': 'Appliances & Electricals',\n",
       "   'brand': 'Milltec',\n",
       "   'type': 'Battery & Electrical',\n",
       "   'sale_price': 349.0,\n",
       "   'market_price': 504.0,\n",
       "   'rating': 3.6,\n",
       "   'description': 'This 3 Outlet Adapters with switch and indicator, One 3 Pin socket and Two 2 Pin sockets are an ultra smooth rotation, International multisocket, sleek and attractive model. Also, it is suitable for all types of plugs around the world. The high-quality Extension box can be used for television, computers, fax, printers, projectors, mobile chargers, Epbx systems and so on. This 5 Meter good quality wire and it is made in India with high-quality virgin plastic. The rated voltage is 10A. 240V-.',\n",
       "   '_semanticScore': 0.34966183}],\n",
       " 'query': 'smart tech for home',\n",
       " 'vector': [0.5816933,\n",
       "  0.070966855,\n",
       "  0.7678191,\n",
       "  0.69965994,\n",
       "  1.45018,\n",
       "  0.26582935,\n",
       "  0.35424778,\n",
       "  0.041759457,\n",
       "  -0.40899527,\n",
       "  -0.87138885,\n",
       "  0.05906835,\n",
       "  0.46437895,\n",
       "  -0.7586495,\n",
       "  -0.24334744,\n",
       "  -0.9511312,\n",
       "  0.34850475,\n",
       "  0.7765883,\n",
       "  0.4370699,\n",
       "  0.68144625,\n",
       "  0.13523078,\n",
       "  -0.75311625,\n",
       "  -0.24764512,\n",
       "  0.36898074,\n",
       "  0.6028022,\n",
       "  -0.061234824,\n",
       "  0.02242497,\n",
       "  -0.5537963,\n",
       "  0.48141605,\n",
       "  -1.375667,\n",
       "  -0.3812427,\n",
       "  1.1448413,\n",
       "  -0.22284465,\n",
       "  0.3627387,\n",
       "  -0.8943882,\n",
       "  0.03862465,\n",
       "  -0.23417789,\n",
       "  0.009530455,\n",
       "  -0.31683213,\n",
       "  -0.9210148,\n",
       "  -0.11738222,\n",
       "  -0.78296345,\n",
       "  0.077336155,\n",
       "  0.29852492,\n",
       "  -0.1481914,\n",
       "  0.058110874,\n",
       "  0.63265693,\n",
       "  -0.6873236,\n",
       "  -0.072548755,\n",
       "  0.061284594,\n",
       "  -0.09632699,\n",
       "  -0.44596002,\n",
       "  0.81640625,\n",
       "  0.436975,\n",
       "  -0.017324299,\n",
       "  0.19855902,\n",
       "  0.5073769,\n",
       "  0.27098593,\n",
       "  -0.274102,\n",
       "  0.027783094,\n",
       "  0.019659996,\n",
       "  0.14353025,\n",
       "  -0.18734263,\n",
       "  0.3487299,\n",
       "  -0.15118077,\n",
       "  0.07900013,\n",
       "  -0.6889836,\n",
       "  0.043813378,\n",
       "  0.37557408,\n",
       "  -0.16258809,\n",
       "  0.6515393,\n",
       "  -0.76907104,\n",
       "  -0.16864106,\n",
       "  -0.35233742,\n",
       "  -0.76761377,\n",
       "  0.18541138,\n",
       "  -0.6339588,\n",
       "  -0.7379495,\n",
       "  -0.5141392,\n",
       "  0.87008446,\n",
       "  -0.057901382,\n",
       "  -0.17943017,\n",
       "  0.015995687,\n",
       "  -0.263866,\n",
       "  0.24781355,\n",
       "  0.6612149,\n",
       "  -0.46923932,\n",
       "  -0.37913963,\n",
       "  0.033718627,\n",
       "  -0.59269446,\n",
       "  0.97093856,\n",
       "  0.055457305,\n",
       "  -0.62222075,\n",
       "  0.70237255,\n",
       "  0.36144984,\n",
       "  -0.19142005,\n",
       "  -0.25669283,\n",
       "  0.15748706,\n",
       "  -0.02541773,\n",
       "  0.32203203,\n",
       "  -0.37459612,\n",
       "  0.54503995,\n",
       "  0.21137969,\n",
       "  0.14896493,\n",
       "  -0.42727757,\n",
       "  -0.82377213,\n",
       "  0.47915053,\n",
       "  0.12363565,\n",
       "  -0.6988926,\n",
       "  0.78987384,\n",
       "  0.459957,\n",
       "  -0.47318482,\n",
       "  0.08738819,\n",
       "  0.39722812,\n",
       "  0.011160891,\n",
       "  -0.6929905,\n",
       "  1.2999616,\n",
       "  0.42502362,\n",
       "  0.48400366,\n",
       "  0.27313417,\n",
       "  -0.03124403,\n",
       "  0.15906066,\n",
       "  1.1015142,\n",
       "  -0.62554574,\n",
       "  0.82084006,\n",
       "  0.704761,\n",
       "  -0.56808275,\n",
       "  0.20950465,\n",
       "  0.6132492,\n",
       "  0.44438708,\n",
       "  -0.70006824,\n",
       "  -0.12946421,\n",
       "  0.3436457,\n",
       "  0.37752053,\n",
       "  -0.4362571,\n",
       "  0.38410783,\n",
       "  0.91045964,\n",
       "  0.6151588,\n",
       "  -0.0069981096,\n",
       "  -0.2089299,\n",
       "  0.2828167,\n",
       "  0.14915365,\n",
       "  0.071885526,\n",
       "  1.0820808,\n",
       "  -0.1703162,\n",
       "  0.33717805,\n",
       "  -1.0265425,\n",
       "  -0.2829036,\n",
       "  -0.48455167,\n",
       "  -0.59473187,\n",
       "  0.16968396,\n",
       "  -0.8608769,\n",
       "  -0.50096726,\n",
       "  0.4765434,\n",
       "  -0.8688528,\n",
       "  -0.20617633,\n",
       "  0.4516922,\n",
       "  0.17590915,\n",
       "  0.9661476,\n",
       "  -0.31734896,\n",
       "  -0.16741411,\n",
       "  0.396661,\n",
       "  0.024973324,\n",
       "  -0.25529048,\n",
       "  0.16718255,\n",
       "  -0.27346942,\n",
       "  -0.51288974,\n",
       "  0.792962,\n",
       "  -0.009010851,\n",
       "  0.43358326,\n",
       "  0.7594673,\n",
       "  -0.15762734,\n",
       "  0.26063058,\n",
       "  0.8339991,\n",
       "  -0.0040852963,\n",
       "  -0.3879895,\n",
       "  0.3000064,\n",
       "  0.71028495,\n",
       "  -0.4426194,\n",
       "  0.35629696,\n",
       "  0.9423244,\n",
       "  -1.6977856,\n",
       "  0.9516279,\n",
       "  0.48224366,\n",
       "  0.2366151,\n",
       "  0.3912152,\n",
       "  0.00018157065,\n",
       "  0.44803828,\n",
       "  -0.08092801,\n",
       "  0.35070956,\n",
       "  -0.56880933,\n",
       "  -0.9900632,\n",
       "  -1.1433418,\n",
       "  0.4452222,\n",
       "  -0.23640496,\n",
       "  0.575373,\n",
       "  -0.5128864,\n",
       "  -0.17293648,\n",
       "  0.7383315,\n",
       "  -0.25503305,\n",
       "  0.6380776,\n",
       "  0.9651128,\n",
       "  0.17193386,\n",
       "  1.1218598,\n",
       "  0.0038088437,\n",
       "  -1.0138278,\n",
       "  -0.42771873,\n",
       "  -0.5177463,\n",
       "  0.024786174,\n",
       "  0.3322062,\n",
       "  -0.3688165,\n",
       "  -0.046458166,\n",
       "  -0.96762633,\n",
       "  1.3746989,\n",
       "  -0.07606976,\n",
       "  -0.34746355,\n",
       "  0.19930634,\n",
       "  -0.107220486,\n",
       "  -0.922325,\n",
       "  -0.24858436,\n",
       "  -0.03754484,\n",
       "  0.05581215,\n",
       "  -0.71993625,\n",
       "  -0.31924558,\n",
       "  0.105171554,\n",
       "  -0.09364058,\n",
       "  0.99858236,\n",
       "  0.6841258,\n",
       "  -1.3169452,\n",
       "  0.6873143,\n",
       "  -0.07246658,\n",
       "  -0.8790616,\n",
       "  -0.46972692,\n",
       "  0.12408756,\n",
       "  0.3079974,\n",
       "  0.26017126,\n",
       "  0.39865887,\n",
       "  -0.15810391,\n",
       "  -0.79077303,\n",
       "  0.4601892,\n",
       "  -0.10999855,\n",
       "  0.27132994,\n",
       "  0.5154339,\n",
       "  -0.2952506,\n",
       "  0.7914592,\n",
       "  0.72060156,\n",
       "  -0.042930923,\n",
       "  0.059052996,\n",
       "  0.47188553,\n",
       "  0.6682531,\n",
       "  -0.5421919,\n",
       "  0.40752715,\n",
       "  0.10114988,\n",
       "  -0.03853962,\n",
       "  -0.050375905,\n",
       "  1.0030333,\n",
       "  -1.5540009,\n",
       "  0.46687376,\n",
       "  -0.27097756,\n",
       "  0.69505394,\n",
       "  0.5257615,\n",
       "  -0.17188697,\n",
       "  0.5569846,\n",
       "  0.083123356,\n",
       "  0.21930645,\n",
       "  -0.12433761,\n",
       "  -1.126718,\n",
       "  -0.20032597,\n",
       "  -0.33840558,\n",
       "  -0.19909339,\n",
       "  -0.11789065,\n",
       "  0.6948816,\n",
       "  -0.14868645,\n",
       "  0.6071191,\n",
       "  0.62291425,\n",
       "  0.53152096,\n",
       "  0.049721517,\n",
       "  1.2660345,\n",
       "  0.6358067,\n",
       "  -0.4607454,\n",
       "  -0.90384364,\n",
       "  -0.26395395,\n",
       "  1.3106925,\n",
       "  0.13928892,\n",
       "  -0.72303367,\n",
       "  0.11215143,\n",
       "  -0.60978967,\n",
       "  -0.31699643,\n",
       "  -0.45454726,\n",
       "  -0.9036573,\n",
       "  0.024493447,\n",
       "  -0.27524608,\n",
       "  0.14708741,\n",
       "  -0.11071994,\n",
       "  0.58264506,\n",
       "  0.31000137,\n",
       "  0.46412235,\n",
       "  -0.017962217,\n",
       "  0.412883,\n",
       "  -0.52721083,\n",
       "  -0.17124069,\n",
       "  0.28038466,\n",
       "  0.18990897,\n",
       "  -0.30476797,\n",
       "  0.45911688,\n",
       "  0.053198308,\n",
       "  -0.5972393,\n",
       "  0.8334284,\n",
       "  -1.3884767,\n",
       "  -3.2709825,\n",
       "  0.643279,\n",
       "  -0.0656686,\n",
       "  -0.89962214,\n",
       "  0.5347449,\n",
       "  -0.6847354,\n",
       "  0.88084733,\n",
       "  -0.08472713,\n",
       "  -0.29376978,\n",
       "  0.664495,\n",
       "  -0.5235435,\n",
       "  0.02382527,\n",
       "  0.00521785,\n",
       "  -0.4159789,\n",
       "  0.5596576,\n",
       "  -0.4397989,\n",
       "  -0.8908085,\n",
       "  -0.26807594,\n",
       "  0.13784257,\n",
       "  -0.07189615,\n",
       "  -0.17915444,\n",
       "  -0.218714,\n",
       "  0.2378478,\n",
       "  0.22312205,\n",
       "  0.0036788783,\n",
       "  0.14161733,\n",
       "  -0.4521159,\n",
       "  -0.034288205,\n",
       "  -1.0755819,\n",
       "  -0.23157184,\n",
       "  0.4155721,\n",
       "  -0.16630763,\n",
       "  -0.59535193,\n",
       "  0.69956625,\n",
       "  0.12393455,\n",
       "  0.57580805,\n",
       "  1.2959479,\n",
       "  -0.28700495,\n",
       "  -0.39885294,\n",
       "  -0.113854095,\n",
       "  0.3859677,\n",
       "  0.54969895,\n",
       "  -0.10992594,\n",
       "  0.654187,\n",
       "  0.51015997,\n",
       "  0.17999499,\n",
       "  0.10175821,\n",
       "  -0.72187364,\n",
       "  0.058956973,\n",
       "  1.0792215,\n",
       "  -0.51347315,\n",
       "  0.36766374,\n",
       "  0.21675882,\n",
       "  -0.40629625,\n",
       "  -0.6321708,\n",
       "  -0.44472986,\n",
       "  0.32107636,\n",
       "  0.46291143,\n",
       "  -0.6552043,\n",
       "  -0.0028824708,\n",
       "  -0.6624328,\n",
       "  -0.13386348,\n",
       "  -0.38990736,\n",
       "  -0.7141506,\n",
       "  0.12649585,\n",
       "  -0.7683532,\n",
       "  -0.6098149,\n",
       "  -0.84566134,\n",
       "  0.7407927,\n",
       "  -0.042210504,\n",
       "  -1.0010195,\n",
       "  0.21642813,\n",
       "  0.2643357,\n",
       "  -1.3702781,\n",
       "  0.58520913,\n",
       "  0.533664,\n",
       "  0.29780623,\n",
       "  0.11124919,\n",
       "  -0.16701415,\n",
       "  0.09330732,\n",
       "  -0.029462919,\n",
       "  -0.763113,\n",
       "  0.012666371,\n",
       "  0.11014386,\n",
       "  -0.24681935,\n",
       "  -0.6950201,\n",
       "  0.12239488,\n",
       "  -1.0865605,\n",
       "  -0.076198116,\n",
       "  -0.076980345,\n",
       "  0.7856033,\n",
       "  -1.023503,\n",
       "  -0.6256724,\n",
       "  0.23525596,\n",
       "  1.0866071,\n",
       "  0.95615244,\n",
       "  -0.8272296,\n",
       "  0.26569116,\n",
       "  0.35117957,\n",
       "  -0.10547362,\n",
       "  -0.28626668,\n",
       "  0.021897774,\n",
       "  -0.18220809,\n",
       "  -0.1365551,\n",
       "  -0.044820573,\n",
       "  -0.4687259,\n",
       "  -0.20487301,\n",
       "  -0.30598146,\n",
       "  0.3425259,\n",
       "  -0.32483032,\n",
       "  0.05229654,\n",
       "  0.13373637,\n",
       "  0.18589996,\n",
       "  -0.8113836,\n",
       "  0.20903687,\n",
       "  0.34813356,\n",
       "  0.2768876,\n",
       "  0.64319086,\n",
       "  0.35642403,\n",
       "  0.2082629,\n",
       "  -0.48606598,\n",
       "  0.121004514,\n",
       "  -0.34132418,\n",
       "  -0.101572536,\n",
       "  -1.5279082,\n",
       "  -0.3450244,\n",
       "  -0.35289538,\n",
       "  -0.033271722,\n",
       "  0.39982045,\n",
       "  -0.7646257,\n",
       "  0.36048424,\n",
       "  -0.027574848,\n",
       "  -0.13092029,\n",
       "  -0.36872286,\n",
       "  0.0019267872,\n",
       "  -0.36669907,\n",
       "  -0.5110651,\n",
       "  -0.60956514,\n",
       "  -0.061336707,\n",
       "  -0.05532085,\n",
       "  -0.9234101,\n",
       "  -0.24467528,\n",
       "  0.324313,\n",
       "  -0.037552204,\n",
       "  0.07235651,\n",
       "  0.66087484,\n",
       "  -0.6367841,\n",
       "  0.16742635,\n",
       "  -0.07249496,\n",
       "  0.0069327606,\n",
       "  -0.689639,\n",
       "  -0.88519114,\n",
       "  0.34182554,\n",
       "  -0.89758015,\n",
       "  0.24074315,\n",
       "  -0.9365555,\n",
       "  0.6419733,\n",
       "  -0.019904187,\n",
       "  0.17952028,\n",
       "  -0.63234043,\n",
       "  -0.8390035,\n",
       "  -0.28567874,\n",
       "  -0.072303586,\n",
       "  -0.36047542,\n",
       "  0.36304253,\n",
       "  1.1069717,\n",
       "  -0.31636542,\n",
       "  -0.43690437,\n",
       "  -0.16643324,\n",
       "  0.35914278,\n",
       "  -0.007514618,\n",
       "  -0.5804072,\n",
       "  -0.1916014,\n",
       "  -0.14928953,\n",
       "  -0.2773047,\n",
       "  0.27373034,\n",
       "  0.0046096644,\n",
       "  0.20955142,\n",
       "  0.5225843,\n",
       "  -0.23274705,\n",
       "  0.9967868,\n",
       "  -0.7040098,\n",
       "  -0.9247563,\n",
       "  -0.0069792373,\n",
       "  0.91899574,\n",
       "  -0.53269535,\n",
       "  -0.4080037,\n",
       "  -1.1253111,\n",
       "  -0.11405721,\n",
       "  0.60687655,\n",
       "  -0.6940435,\n",
       "  0.8215754,\n",
       "  0.23924387,\n",
       "  -0.17532317,\n",
       "  -0.7995345,\n",
       "  -1.3522055,\n",
       "  0.16592109,\n",
       "  0.43395567,\n",
       "  -0.52244884,\n",
       "  -0.23584387,\n",
       "  -0.37180024,\n",
       "  -0.2479767,\n",
       "  -1.1682268,\n",
       "  0.44930276,\n",
       "  0.7644226,\n",
       "  -1.6071033,\n",
       "  0.8173906,\n",
       "  0.89761543,\n",
       "  0.2462345,\n",
       "  0.010423517,\n",
       "  -0.6001996,\n",
       "  -0.19136599,\n",
       "  -0.51908314,\n",
       "  -0.013989794,\n",
       "  0.013913962,\n",
       "  -0.79964006,\n",
       "  -0.55441105,\n",
       "  0.6273063,\n",
       "  0.22866866,\n",
       "  -1.6229401,\n",
       "  -0.5063119,\n",
       "  -0.28025553,\n",
       "  -0.7241235,\n",
       "  0.10283019,\n",
       "  -0.670043,\n",
       "  -0.008398697,\n",
       "  -0.2092143,\n",
       "  0.5271332,\n",
       "  0.40179,\n",
       "  -0.41476512,\n",
       "  0.28793764,\n",
       "  -0.51243114,\n",
       "  0.38116735,\n",
       "  0.96432227,\n",
       "  0.31313235,\n",
       "  0.41512737,\n",
       "  0.0066530257,\n",
       "  0.013997632,\n",
       "  -0.45549715,\n",
       "  0.9997363,\n",
       "  0.060151126,\n",
       "  -0.018861488,\n",
       "  -0.10786939,\n",
       "  -0.59005994,\n",
       "  0.3679943,\n",
       "  0.9685289,\n",
       "  -0.12904626,\n",
       "  0.8586535,\n",
       "  -0.23896372,\n",
       "  0.5380171,\n",
       "  0.0033175051,\n",
       "  0.09030542,\n",
       "  -0.41125104,\n",
       "  -0.4499391,\n",
       "  0.35550994,\n",
       "  -1.34285,\n",
       "  -0.28781384,\n",
       "  0.14253666,\n",
       "  0.104607455,\n",
       "  0.17733763,\n",
       "  -0.27302837,\n",
       "  0.12727024,\n",
       "  -0.011517746,\n",
       "  0.5594066,\n",
       "  0.6126727,\n",
       "  0.6217767,\n",
       "  -1.234098,\n",
       "  -0.71461725,\n",
       "  0.5187124,\n",
       "  -0.78227365,\n",
       "  0.48958737,\n",
       "  -0.75920045,\n",
       "  -0.22544329,\n",
       "  0.1556651,\n",
       "  0.12968007,\n",
       "  -0.890087,\n",
       "  0.35187525,\n",
       "  0.70459116,\n",
       "  0.094873145,\n",
       "  -0.7213668,\n",
       "  -0.3780076,\n",
       "  0.54649436,\n",
       "  -0.2692698,\n",
       "  0.041148677,\n",
       "  -0.23426923,\n",
       "  -0.52259696,\n",
       "  0.164165,\n",
       "  -0.10783616,\n",
       "  -0.95457506,\n",
       "  0.36185834,\n",
       "  0.53599626,\n",
       "  0.68275875,\n",
       "  0.6399014,\n",
       "  0.91616106,\n",
       "  -0.17873928,\n",
       "  0.86800045,\n",
       "  0.8694672,\n",
       "  0.4871971,\n",
       "  -0.39625174,\n",
       "  0.36533105,\n",
       "  -0.580352,\n",
       "  0.8127488,\n",
       "  0.0047405018,\n",
       "  0.25404608,\n",
       "  -0.27974105,\n",
       "  0.6668324,\n",
       "  0.28380296,\n",
       "  -0.6216512,\n",
       "  0.08811023,\n",
       "  -0.04114475,\n",
       "  -0.4105842,\n",
       "  -0.42559582,\n",
       "  0.8394069,\n",
       "  0.8474552,\n",
       "  -1.1303673,\n",
       "  0.14550075,\n",
       "  0.5060071,\n",
       "  -0.5517187,\n",
       "  -0.5939416,\n",
       "  0.14756313,\n",
       "  -0.26235807,\n",
       "  -0.5057823,\n",
       "  0.6564652,\n",
       "  -0.17647704,\n",
       "  0.46681917,\n",
       "  0.97476614,\n",
       "  -0.08955407,\n",
       "  0.80324763,\n",
       "  0.32390118,\n",
       "  0.9031531,\n",
       "  1.0169406,\n",
       "  0.6603921,\n",
       "  -0.85454816,\n",
       "  1.4232448,\n",
       "  -0.10892433,\n",
       "  -0.8080567,\n",
       "  -0.73169464,\n",
       "  -0.00032213828,\n",
       "  -0.37943542,\n",
       "  0.19530788,\n",
       "  -0.0029781114,\n",
       "  0.38785297,\n",
       "  0.24449229,\n",
       "  0.8897041,\n",
       "  -0.26999748,\n",
       "  0.2645786,\n",
       "  1.0175375,\n",
       "  0.51111615,\n",
       "  0.20081358,\n",
       "  -0.57607067,\n",
       "  0.25736296,\n",
       "  0.6867525,\n",
       "  -0.71701884,\n",
       "  -0.6394276,\n",
       "  0.35508662,\n",
       "  -0.4130512,\n",
       "  0.36785424,\n",
       "  -0.15287536,\n",
       "  -0.3617466,\n",
       "  0.16794705,\n",
       "  0.15966778,\n",
       "  0.25245583,\n",
       "  1.3617792,\n",
       "  -0.40072435,\n",
       "  -0.5924902,\n",
       "  -0.876136,\n",
       "  0.5747653,\n",
       "  -1.0302722,\n",
       "  0.31661704,\n",
       "  0.9822132,\n",
       "  0.6760416,\n",
       "  0.7424909,\n",
       "  -0.07953956,\n",
       "  0.8850753,\n",
       "  -0.38089162,\n",
       "  1.1063669,\n",
       "  -0.059764277,\n",
       "  -0.013536106,\n",
       "  -0.41800493,\n",
       "  0.99827516,\n",
       "  0.06649329,\n",
       "  -0.19764987,\n",
       "  -0.7266116,\n",
       "  -0.636239,\n",
       "  -0.5230274,\n",
       "  -0.25231647,\n",
       "  -0.47963881,\n",
       "  0.64385384,\n",
       "  0.14133738,\n",
       "  -0.9141196,\n",
       "  -0.52566284,\n",
       "  -0.50355667,\n",
       "  0.0656358,\n",
       "  -0.5819013,\n",
       "  -1.0378668,\n",
       "  -0.4765581,\n",
       "  -0.05451296,\n",
       "  0.2071234,\n",
       "  0.16595978,\n",
       "  0.5317212,\n",
       "  0.9378009,\n",
       "  0.37256548,\n",
       "  -0.57811433,\n",
       "  -0.11185359,\n",
       "  0.25787985,\n",
       "  0.15745023,\n",
       "  -0.058549203,\n",
       "  -1.1668059,\n",
       "  -0.7721126,\n",
       "  0.5656602,\n",
       "  0.2636325,\n",
       "  -0.05873701,\n",
       "  -0.7153327,\n",
       "  0.2997629,\n",
       "  -0.36062145,\n",
       "  0.52265286,\n",
       "  0.8090726,\n",
       "  0.5701717,\n",
       "  0.28584146,\n",
       "  -0.46518105,\n",
       "  -0.068445876,\n",
       "  -0.12083082,\n",
       "  0.9200702,\n",
       "  0.0028460722,\n",
       "  -0.71708024,\n",
       "  0.56978947,\n",
       "  0.24665439,\n",
       "  -0.1410904,\n",
       "  -0.5405255,\n",
       "  0.9591825,\n",
       "  0.5507641,\n",
       "  -0.24888808,\n",
       "  -0.36687157,\n",
       "  -0.34810936,\n",
       "  -0.27399367,\n",
       "  -1.2745378,\n",
       "  -0.3735652,\n",
       "  0.17835972,\n",
       "  -0.13872169,\n",
       "  -0.6742779,\n",
       "  0.4381375,\n",
       "  0.025647562,\n",
       "  0.73014754,\n",
       "  0.18932119,\n",
       "  -0.76397747,\n",
       "  -0.044749375,\n",
       "  -0.35919985,\n",
       "  -0.49147838,\n",
       "  -0.31427568,\n",
       "  0.32413718,\n",
       "  -0.45747003,\n",
       "  0.21748874,\n",
       "  -0.10075228,\n",
       "  -0.43275338,\n",
       "  0.63103926,\n",
       "  0.08054844,\n",
       "  -0.63404757,\n",
       "  0.32380638,\n",
       "  -0.033158682,\n",
       "  -0.39474428],\n",
       " 'processingTimeMs': 15,\n",
       " 'limit': 3,\n",
       " 'offset': 0,\n",
       " 'estimatedTotalHits': 300}"
      ]
     },
     "execution_count": 16,
     "metadata": {},
     "output_type": "execute_result"
    }
   ],
   "source": [
    "x"
   ]
  },
  {
   "cell_type": "code",
   "execution_count": 7,
   "metadata": {},
   "outputs": [
    {
     "data": {
      "text/plain": [
       "{'displayedAttributes': ['product',\n",
       "  'category',\n",
       "  'sub_category',\n",
       "  'brand',\n",
       "  'sale_price',\n",
       "  'market_price',\n",
       "  'type',\n",
       "  'rating',\n",
       "  'description'],\n",
       " 'searchableAttributes': ['product',\n",
       "  'category',\n",
       "  'sub_category',\n",
       "  'brand',\n",
       "  'type'],\n",
       " 'filterableAttributes': ['Sale_price',\n",
       "  'brand',\n",
       "  'category',\n",
       "  'rating',\n",
       "  'sub_category'],\n",
       " 'sortableAttributes': ['market_price', 'rating', 'sale_price'],\n",
       " 'rankingRules': ['words',\n",
       "  'typo',\n",
       "  'proximity',\n",
       "  'attribute',\n",
       "  'sort',\n",
       "  'exactness'],\n",
       " 'stopWords': [],\n",
       " 'nonSeparatorTokens': [],\n",
       " 'separatorTokens': [],\n",
       " 'dictionary': [],\n",
       " 'synonyms': {},\n",
       " 'distinctAttribute': None,\n",
       " 'proximityPrecision': 'byWord',\n",
       " 'typoTolerance': {'enabled': True,\n",
       "  'minWordSizeForTypos': {'oneTypo': 5, 'twoTypos': 9},\n",
       "  'disableOnWords': [],\n",
       "  'disableOnAttributes': []},\n",
       " 'faceting': {'maxValuesPerFacet': 100, 'sortFacetValuesBy': {'*': 'alpha'}},\n",
       " 'pagination': {'maxTotalHits': 300},\n",
       " 'embedders': {'default': HuggingFaceEmbedder(source='huggingFace', model='BAAI/bge-base-en-v1.5', revision=None, document_template='Introducing {{doc.product}} from {{doc.brand}} is a {{doc.type}} designed specifically for {{doc.sub_category}} in the {{doc.category}} domain. A short description is \"{{doc.description|truncatewords: 20}}...')}}"
      ]
     },
     "execution_count": 7,
     "metadata": {},
     "output_type": "execute_result"
    }
   ],
   "source": [
    "index.get_settings()"
   ]
  },
  {
   "cell_type": "code",
   "execution_count": 54,
   "metadata": {},
   "outputs": [
    {
     "data": {
      "text/plain": [
       "TaskInfo(task_uid=57336, index_uid='products', status='enqueued', type='settingsUpdate', enqueued_at=datetime.datetime(2024, 4, 12, 13, 44, 28, 647563))"
      ]
     },
     "execution_count": 54,
     "metadata": {},
     "output_type": "execute_result"
    }
   ],
   "source": [
    "index.update_displayed_attributes(['product', 'category', 'sub_category', 'brand', 'sale_price', 'market_price', 'type', 'rating', 'description'])"
   ]
  },
  {
   "cell_type": "code",
   "execution_count": 55,
   "metadata": {},
   "outputs": [],
   "source": [
    "index.get_distinct_attribute()"
   ]
  },
  {
   "cell_type": "code",
   "execution_count": 56,
   "metadata": {},
   "outputs": [
    {
     "data": {
      "text/plain": [
       "[]"
      ]
     },
     "execution_count": 56,
     "metadata": {},
     "output_type": "execute_result"
    }
   ],
   "source": [
    "index.get_filterable_attributes()"
   ]
  },
  {
   "cell_type": "code",
   "execution_count": 57,
   "metadata": {},
   "outputs": [
    {
     "data": {
      "text/plain": [
       "TaskInfo(task_uid=57337, index_uid='products', status='enqueued', type='settingsUpdate', enqueued_at=datetime.datetime(2024, 4, 12, 13, 57, 54, 845662))"
      ]
     },
     "execution_count": 57,
     "metadata": {},
     "output_type": "execute_result"
    }
   ],
   "source": [
    "index.update_filterable_attributes(['category', 'sub_category', 'brand', 'Sale_price', 'rating'])"
   ]
  },
  {
   "cell_type": "code",
   "execution_count": 59,
   "metadata": {},
   "outputs": [
    {
     "data": {
      "text/plain": [
       "['Sale_price', 'brand', 'category', 'rating', 'sub_category']"
      ]
     },
     "execution_count": 59,
     "metadata": {},
     "output_type": "execute_result"
    }
   ],
   "source": [
    "index.get_filterable_attributes()"
   ]
  },
  {
   "cell_type": "code",
   "execution_count": 60,
   "metadata": {},
   "outputs": [
    {
     "data": {
      "text/plain": [
       "Pagination(max_total_hits=1000)"
      ]
     },
     "execution_count": 60,
     "metadata": {},
     "output_type": "execute_result"
    }
   ],
   "source": [
    "index.get_pagination_settings()"
   ]
  },
  {
   "cell_type": "code",
   "execution_count": 61,
   "metadata": {},
   "outputs": [
    {
     "data": {
      "text/plain": [
       "TaskInfo(task_uid=57338, index_uid='products', status='enqueued', type='settingsUpdate', enqueued_at=datetime.datetime(2024, 4, 12, 14, 2, 0, 516406))"
      ]
     },
     "execution_count": 61,
     "metadata": {},
     "output_type": "execute_result"
    }
   ],
   "source": [
    "index.update_pagination_settings({'maxTotalHits': 300})"
   ]
  },
  {
   "cell_type": "code",
   "execution_count": 62,
   "metadata": {},
   "outputs": [
    {
     "data": {
      "text/plain": [
       "['*']"
      ]
     },
     "execution_count": 62,
     "metadata": {},
     "output_type": "execute_result"
    }
   ],
   "source": [
    "index.get_searchable_attributes()"
   ]
  },
  {
   "cell_type": "code",
   "execution_count": 63,
   "metadata": {},
   "outputs": [
    {
     "data": {
      "text/plain": [
       "TaskInfo(task_uid=57339, index_uid='products', status='enqueued', type='settingsUpdate', enqueued_at=datetime.datetime(2024, 4, 12, 14, 8, 35, 492149))"
      ]
     },
     "execution_count": 63,
     "metadata": {},
     "output_type": "execute_result"
    }
   ],
   "source": [
    "index.update_searchable_attributes(['product', 'category', 'sub_category', 'brand', 'type'])"
   ]
  },
  {
   "cell_type": "code",
   "execution_count": 64,
   "metadata": {},
   "outputs": [
    {
     "data": {
      "text/plain": [
       "['product', 'category', 'sub_category', 'brand', 'type']"
      ]
     },
     "execution_count": 64,
     "metadata": {},
     "output_type": "execute_result"
    }
   ],
   "source": [
    "index.get_searchable_attributes()"
   ]
  },
  {
   "cell_type": "code",
   "execution_count": 65,
   "metadata": {},
   "outputs": [
    {
     "data": {
      "text/plain": [
       "[]"
      ]
     },
     "execution_count": 65,
     "metadata": {},
     "output_type": "execute_result"
    }
   ],
   "source": [
    "index.get_sortable_attributes()"
   ]
  },
  {
   "cell_type": "code",
   "execution_count": 66,
   "metadata": {},
   "outputs": [
    {
     "data": {
      "text/plain": [
       "TaskInfo(task_uid=57340, index_uid='products', status='enqueued', type='settingsUpdate', enqueued_at=datetime.datetime(2024, 4, 12, 14, 12, 37, 559498))"
      ]
     },
     "execution_count": 66,
     "metadata": {},
     "output_type": "execute_result"
    }
   ],
   "source": [
    "index.update_sortable_attributes(['sale_price', 'market_price', 'rating'])"
   ]
  },
  {
   "cell_type": "code",
   "execution_count": 67,
   "metadata": {},
   "outputs": [
    {
     "data": {
      "text/plain": [
       "['market_price', 'rating', 'sale_price']"
      ]
     },
     "execution_count": 67,
     "metadata": {},
     "output_type": "execute_result"
    }
   ],
   "source": [
    "index.get_sortable_attributes()"
   ]
  },
  {
   "cell_type": "code",
   "execution_count": 68,
   "metadata": {},
   "outputs": [
    {
     "data": {
      "text/plain": [
       "[]"
      ]
     },
     "execution_count": 68,
     "metadata": {},
     "output_type": "execute_result"
    }
   ],
   "source": [
    "index.get_stop_words()"
   ]
  },
  {
   "cell_type": "code",
   "execution_count": 69,
   "metadata": {},
   "outputs": [
    {
     "data": {
      "text/plain": [
       "{}"
      ]
     },
     "execution_count": 69,
     "metadata": {},
     "output_type": "execute_result"
    }
   ],
   "source": [
    "index.get_synonyms()"
   ]
  },
  {
   "cell_type": "code",
   "execution_count": 70,
   "metadata": {},
   "outputs": [
    {
     "data": {
      "text/plain": [
       "TypoTolerance(enabled=True, disable_on_attributes=[], disable_on_words=[], min_word_size_for_typos=MinWordSizeForTypos(one_typo=5, two_typos=9))"
      ]
     },
     "execution_count": 70,
     "metadata": {},
     "output_type": "execute_result"
    }
   ],
   "source": [
    "index.get_typo_tolerance()"
   ]
  }
 ],
 "metadata": {
  "kernelspec": {
   "display_name": "Python 3",
   "language": "python",
   "name": "python3"
  },
  "language_info": {
   "codemirror_mode": {
    "name": "ipython",
    "version": 3
   },
   "file_extension": ".py",
   "mimetype": "text/x-python",
   "name": "python",
   "nbconvert_exporter": "python",
   "pygments_lexer": "ipython3",
   "version": "3.9.11"
  }
 },
 "nbformat": 4,
 "nbformat_minor": 2
}
